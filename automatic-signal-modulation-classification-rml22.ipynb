{
 "cells": [
  {
   "cell_type": "code",
   "execution_count": 1,
   "id": "f61ea18f",
   "metadata": {
    "_cell_guid": "b1076dfc-b9ad-4769-8c92-a6c4dae69d19",
    "_uuid": "8f2839f25d086af736a60e9eeb907d3b93b6e0e5",
    "execution": {
     "iopub.execute_input": "2025-07-24T21:04:11.073573Z",
     "iopub.status.busy": "2025-07-24T21:04:11.073256Z",
     "iopub.status.idle": "2025-07-24T21:04:23.834754Z",
     "shell.execute_reply": "2025-07-24T21:04:23.834033Z"
    },
    "papermill": {
     "duration": 12.770276,
     "end_time": "2025-07-24T21:04:23.836704",
     "exception": false,
     "start_time": "2025-07-24T21:04:11.066428",
     "status": "completed"
    },
    "tags": []
   },
   "outputs": [],
   "source": [
    "from tensorflow.keras.models import load_model\n",
    "import pickle\n",
    "import numpy as np\n",
    "import os\n",
    "import matplotlib.pyplot as plt\n",
    "from PIL import Image\n",
    "import tensorflow as tf\n",
    "from tqdm import tqdm"
   ]
  },
  {
   "cell_type": "code",
   "execution_count": 2,
   "id": "deff4cf9",
   "metadata": {
    "execution": {
     "iopub.execute_input": "2025-07-24T21:04:23.847770Z",
     "iopub.status.busy": "2025-07-24T21:04:23.847300Z",
     "iopub.status.idle": "2025-07-24T21:04:24.619764Z",
     "shell.execute_reply": "2025-07-24T21:04:24.618742Z"
    },
    "papermill": {
     "duration": 0.780224,
     "end_time": "2025-07-24T21:04:24.621956",
     "exception": false,
     "start_time": "2025-07-24T21:04:23.841732",
     "status": "completed"
    },
    "tags": []
   },
   "outputs": [],
   "source": [
    "with open('/kaggle/input/rml-splitting-80-20/data_200.pkl', 'rb') as file:\n",
    "    data = pickle.load(file)"
   ]
  },
  {
   "cell_type": "code",
   "execution_count": 3,
   "id": "e4c4f3bc",
   "metadata": {
    "execution": {
     "iopub.execute_input": "2025-07-24T21:04:24.634678Z",
     "iopub.status.busy": "2025-07-24T21:04:24.633937Z",
     "iopub.status.idle": "2025-07-24T21:04:24.637854Z",
     "shell.execute_reply": "2025-07-24T21:04:24.637026Z"
    },
    "papermill": {
     "duration": 0.012398,
     "end_time": "2025-07-24T21:04:24.639548",
     "exception": false,
     "start_time": "2025-07-24T21:04:24.627150",
     "status": "completed"
    },
    "tags": []
   },
   "outputs": [],
   "source": [
    "#mod_list_new=['BPSK','QPSK','8PSK','QAM16','QAM64']"
   ]
  },
  {
   "cell_type": "code",
   "execution_count": 4,
   "id": "5a7af6ed",
   "metadata": {
    "execution": {
     "iopub.execute_input": "2025-07-24T21:04:24.650253Z",
     "iopub.status.busy": "2025-07-24T21:04:24.650007Z",
     "iopub.status.idle": "2025-07-24T21:04:24.655119Z",
     "shell.execute_reply": "2025-07-24T21:04:24.654447Z"
    },
    "papermill": {
     "duration": 0.012301,
     "end_time": "2025-07-24T21:04:24.656684",
     "exception": false,
     "start_time": "2025-07-24T21:04:24.644383",
     "status": "completed"
    },
    "tags": []
   },
   "outputs": [],
   "source": [
    "def load_data_for_test(data_dict,target_snr):\n",
    "    signals = []\n",
    "    labels = []\n",
    "    \n",
    "    # Iterate over the dictionary to filter data with the target SNR\n",
    "    for (modulation, snr), signal_array in data_dict.items():\n",
    "        #if snr==target_snr and modulation in mod_list_new:\n",
    "        if snr==target_snr :\n",
    "            for i in range((signal_array.shape)[0]):\n",
    "                signal=signal_array[i]\n",
    "                signals.append(signal)\n",
    "                labels.append(modulation)\n",
    "               \n",
    "    print('Length of signals:',len(signals))\n",
    "    signals = np.array(signals)\n",
    "    print('Length of labels:',len(labels))\n",
    "    labels=np.array(labels)\n",
    "    return signals,labels"
   ]
  },
  {
   "cell_type": "code",
   "execution_count": 5,
   "id": "e5bd85be",
   "metadata": {
    "execution": {
     "iopub.execute_input": "2025-07-24T21:04:24.666686Z",
     "iopub.status.busy": "2025-07-24T21:04:24.666439Z",
     "iopub.status.idle": "2025-07-24T21:04:24.675128Z",
     "shell.execute_reply": "2025-07-24T21:04:24.674230Z"
    },
    "papermill": {
     "duration": 0.015551,
     "end_time": "2025-07-24T21:04:24.676745",
     "exception": false,
     "start_time": "2025-07-24T21:04:24.661194",
     "status": "completed"
    },
    "tags": []
   },
   "outputs": [
    {
     "name": "stdout",
     "output_type": "stream",
     "text": [
      "Length of signals: 2200\n",
      "Length of labels: 2200\n"
     ]
    }
   ],
   "source": [
    "test_signals,test_mod=load_data_for_test(data,10)"
   ]
  },
  {
   "cell_type": "code",
   "execution_count": 6,
   "id": "286c2484",
   "metadata": {
    "execution": {
     "iopub.execute_input": "2025-07-24T21:04:24.687307Z",
     "iopub.status.busy": "2025-07-24T21:04:24.686728Z",
     "iopub.status.idle": "2025-07-24T21:04:24.691971Z",
     "shell.execute_reply": "2025-07-24T21:04:24.691166Z"
    },
    "papermill": {
     "duration": 0.012227,
     "end_time": "2025-07-24T21:04:24.693612",
     "exception": false,
     "start_time": "2025-07-24T21:04:24.681385",
     "status": "completed"
    },
    "tags": []
   },
   "outputs": [
    {
     "name": "stdout",
     "output_type": "stream",
     "text": [
      "['BPSK', 'QPSK', '8PSK', 'PAM4', 'QAM16', 'QAM64', 'GFSK', 'CPFSK', 'WBFM', 'AM-DSB', 'AM-SSB']\n"
     ]
    }
   ],
   "source": [
    "labels_check=[]\n",
    "for i in test_mod:\n",
    "    if i not in labels_check:\n",
    "        labels_check.append(i)\n",
    "print(labels_check)"
   ]
  },
  {
   "cell_type": "code",
   "execution_count": 7,
   "id": "3e9c753f",
   "metadata": {
    "execution": {
     "iopub.execute_input": "2025-07-24T21:04:24.704153Z",
     "iopub.status.busy": "2025-07-24T21:04:24.703653Z",
     "iopub.status.idle": "2025-07-24T21:04:26.874317Z",
     "shell.execute_reply": "2025-07-24T21:04:26.873574Z"
    },
    "papermill": {
     "duration": 2.178029,
     "end_time": "2025-07-24T21:04:26.876330",
     "exception": false,
     "start_time": "2025-07-24T21:04:24.698301",
     "status": "completed"
    },
    "tags": []
   },
   "outputs": [],
   "source": [
    "phase_model=load_model('/kaggle/input/amc_hierarchy/keras/default/3/test_model_phase(10).keras')\n",
    "non_phase_model=load_model('/kaggle/input/amc_hierarchy/keras/default/3/Non_Phase_Model (full).keras')\n",
    "binary_model=load_model('/kaggle/input/amc_hierarchy/keras/default/3/Binary_model (full).keras')"
   ]
  },
  {
   "cell_type": "code",
   "execution_count": 8,
   "id": "86c4c87b",
   "metadata": {
    "execution": {
     "iopub.execute_input": "2025-07-24T21:04:26.887316Z",
     "iopub.status.busy": "2025-07-24T21:04:26.887029Z",
     "iopub.status.idle": "2025-07-24T21:04:26.891402Z",
     "shell.execute_reply": "2025-07-24T21:04:26.890634Z"
    },
    "papermill": {
     "duration": 0.011585,
     "end_time": "2025-07-24T21:04:26.892958",
     "exception": false,
     "start_time": "2025-07-24T21:04:26.881373",
     "status": "completed"
    },
    "tags": []
   },
   "outputs": [],
   "source": [
    "def prediction_from_binary(frame):\n",
    "    signal=np.swapaxes(frame,0,1)\n",
    "    signal = np.expand_dims(signal, axis=0)\n",
    "    signal = np.expand_dims(signal, axis=0)\n",
    "    binary_pred=binary_model(signal)\n",
    "    if binary_pred>=0.5:\n",
    "        binary_pred=1\n",
    "    else:\n",
    "        binary_pred=0\n",
    "    return binary_pred"
   ]
  },
  {
   "cell_type": "code",
   "execution_count": 9,
   "id": "a6e54456",
   "metadata": {
    "execution": {
     "iopub.execute_input": "2025-07-24T21:04:26.903399Z",
     "iopub.status.busy": "2025-07-24T21:04:26.903149Z",
     "iopub.status.idle": "2025-07-24T21:04:26.907086Z",
     "shell.execute_reply": "2025-07-24T21:04:26.906157Z"
    },
    "papermill": {
     "duration": 0.01097,
     "end_time": "2025-07-24T21:04:26.908651",
     "exception": false,
     "start_time": "2025-07-24T21:04:26.897681",
     "status": "completed"
    },
    "tags": []
   },
   "outputs": [],
   "source": [
    "np_labels=['PAM4', 'GFSK', 'CPFSK', 'WBFM', 'AM-DSB', 'AM-SSB']"
   ]
  },
  {
   "cell_type": "code",
   "execution_count": 10,
   "id": "878f72e3",
   "metadata": {
    "execution": {
     "iopub.execute_input": "2025-07-24T21:04:26.918878Z",
     "iopub.status.busy": "2025-07-24T21:04:26.918637Z",
     "iopub.status.idle": "2025-07-24T21:04:26.922298Z",
     "shell.execute_reply": "2025-07-24T21:04:26.921488Z"
    },
    "papermill": {
     "duration": 0.010511,
     "end_time": "2025-07-24T21:04:26.923857",
     "exception": false,
     "start_time": "2025-07-24T21:04:26.913346",
     "status": "completed"
    },
    "tags": []
   },
   "outputs": [],
   "source": [
    "p_labels=['8PSK', 'BPSK', 'QAM16', 'QAM64', 'QPSK']"
   ]
  },
  {
   "cell_type": "code",
   "execution_count": 11,
   "id": "a7e3e7e5",
   "metadata": {
    "execution": {
     "iopub.execute_input": "2025-07-24T21:04:26.934230Z",
     "iopub.status.busy": "2025-07-24T21:04:26.933936Z",
     "iopub.status.idle": "2025-07-24T21:04:26.938391Z",
     "shell.execute_reply": "2025-07-24T21:04:26.937739Z"
    },
    "papermill": {
     "duration": 0.011276,
     "end_time": "2025-07-24T21:04:26.939949",
     "exception": false,
     "start_time": "2025-07-24T21:04:26.928673",
     "status": "completed"
    },
    "tags": []
   },
   "outputs": [],
   "source": [
    "def prediction_from_nonphase_model(frame):\n",
    "    signal=np.swapaxes(frame,0,1)\n",
    "    signal=np.expand_dims(signal,axis=0)\n",
    "    signal=np.expand_dims(signal,axis=0)\n",
    "    \n",
    "    prediction=non_phase_model(signal)\n",
    "    \n",
    "    prediction=np.argmax(prediction,axis=1)\n",
    "    \n",
    "    mod_pred=np_labels[prediction[0]]\n",
    "    \n",
    "    return mod_pred"
   ]
  },
  {
   "cell_type": "code",
   "execution_count": 12,
   "id": "7604a429",
   "metadata": {
    "execution": {
     "iopub.execute_input": "2025-07-24T21:04:26.950050Z",
     "iopub.status.busy": "2025-07-24T21:04:26.949794Z",
     "iopub.status.idle": "2025-07-24T21:04:26.953314Z",
     "shell.execute_reply": "2025-07-24T21:04:26.952647Z"
    },
    "papermill": {
     "duration": 0.010145,
     "end_time": "2025-07-24T21:04:26.954815",
     "exception": false,
     "start_time": "2025-07-24T21:04:26.944670",
     "status": "completed"
    },
    "tags": []
   },
   "outputs": [],
   "source": [
    "dir_path_new = f'/kaggle/working/test'\n",
    "os.makedirs(dir_path_new, exist_ok=True)"
   ]
  },
  {
   "cell_type": "code",
   "execution_count": 13,
   "id": "4ba5b73e",
   "metadata": {
    "execution": {
     "iopub.execute_input": "2025-07-24T21:04:26.964932Z",
     "iopub.status.busy": "2025-07-24T21:04:26.964684Z",
     "iopub.status.idle": "2025-07-24T21:04:26.969683Z",
     "shell.execute_reply": "2025-07-24T21:04:26.969014Z"
    },
    "papermill": {
     "duration": 0.011967,
     "end_time": "2025-07-24T21:04:26.971294",
     "exception": false,
     "start_time": "2025-07-24T21:04:26.959327",
     "status": "completed"
    },
    "tags": []
   },
   "outputs": [],
   "source": [
    "\"\"\"for (modulation,snr) in data:\n",
    "    if modulation in my_keys and snr in snr_vals:\n",
    "        \n",
    "        i=(modulation,snr)\n",
    "        frames = data[i]\n",
    "\n",
    "        # Create the directory if it doesn't exist\n",
    "        dir_path = f'/kaggle/working/constellation/{i[0]}/'\n",
    "        os.makedirs(dir_path, exist_ok=True)  # Create directory if it doesn't exist\n",
    "\n",
    "        # Loop over the frames and generate the images\n",
    "        for j in tqdm(range(0, 1600)):\"\"\"\n",
    "\n",
    "dir_path=\"/kaggle/working/\"\n",
    "def plot_from_frame(frames):\n",
    "    I = frames[0]\n",
    "    Q = frames[1]\n",
    "\n",
    "    # Plot the I-Q constellation\n",
    "    fig = plt.figure(dpi=80)\n",
    "    plt.plot(I, Q)\n",
    "    plt.axis('off')\n",
    "\n",
    "    # Save the plot to a temporary file\n",
    "    plt.savefig('1.jpg')\n",
    "\n",
    "    # Convert the image to grayscale\n",
    "    im = Image.open('1.jpg').convert('L')\n",
    "\n",
    "    # Save the grayscale image to the correct directory\n",
    "    plot_path=f'{dir_path}/test1.jpg'\n",
    "    im.save(plot_path)\n",
    "\n",
    "    # Close the plot to free up memory\n",
    "    plt.close()\n",
    "    \n",
    "    return plot_path\n",
    "    \n",
    "    "
   ]
  },
  {
   "cell_type": "code",
   "execution_count": 14,
   "id": "89c9e4c5",
   "metadata": {
    "execution": {
     "iopub.execute_input": "2025-07-24T21:04:26.981651Z",
     "iopub.status.busy": "2025-07-24T21:04:26.981169Z",
     "iopub.status.idle": "2025-07-24T21:04:26.986972Z",
     "shell.execute_reply": "2025-07-24T21:04:26.986193Z"
    },
    "papermill": {
     "duration": 0.012668,
     "end_time": "2025-07-24T21:04:26.988546",
     "exception": false,
     "start_time": "2025-07-24T21:04:26.975878",
     "status": "completed"
    },
    "tags": []
   },
   "outputs": [
    {
     "data": {
      "text/plain": [
       "\"def plot_from_frame(frames):\\n    I = frames[0]\\n    Q = frames[1]\\n\\n    # Plot the I-Q constellation diagram\\n    fig = plt.figure(dpi=80)\\n    plt.plot(I, Q)\\n    plt.axis('off')\\n\\n    # Save the plot as a temporary image\\n    plt.savefig('new.jpg')\\n    \\n    plt.close(fig)\\n\\n    # Convert the saved plot to grayscale and save it\\n    im = Image.open('new.jpg').convert('L')\\n    plot_path=f'{dir_path_new}/test.jpg'\\n    im.save(plot_path)\\n    return plot_path\""
      ]
     },
     "execution_count": 14,
     "metadata": {},
     "output_type": "execute_result"
    }
   ],
   "source": [
    "\"\"\"def plot_from_frame(frames):\n",
    "    I = frames[0]\n",
    "    Q = frames[1]\n",
    "\n",
    "    # Plot the I-Q constellation diagram\n",
    "    fig = plt.figure(dpi=80)\n",
    "    plt.plot(I, Q)\n",
    "    plt.axis('off')\n",
    "\n",
    "    # Save the plot as a temporary image\n",
    "    plt.savefig('new.jpg')\n",
    "    \n",
    "    plt.close(fig)\n",
    "\n",
    "    # Convert the saved plot to grayscale and save it\n",
    "    im = Image.open('new.jpg').convert('L')\n",
    "    plot_path=f'{dir_path_new}/test.jpg'\n",
    "    im.save(plot_path)\n",
    "    return plot_path\"\"\""
   ]
  },
  {
   "cell_type": "code",
   "execution_count": 15,
   "id": "c459693a",
   "metadata": {
    "execution": {
     "iopub.execute_input": "2025-07-24T21:04:26.998717Z",
     "iopub.status.busy": "2025-07-24T21:04:26.998496Z",
     "iopub.status.idle": "2025-07-24T21:04:27.002667Z",
     "shell.execute_reply": "2025-07-24T21:04:27.001955Z"
    },
    "papermill": {
     "duration": 0.011122,
     "end_time": "2025-07-24T21:04:27.004302",
     "exception": false,
     "start_time": "2025-07-24T21:04:26.993180",
     "status": "completed"
    },
    "tags": []
   },
   "outputs": [],
   "source": [
    "def preprocess_single_image(image_path, img_size=(256, 192)):\n",
    "\n",
    "    image = tf.io.read_file(image_path)\n",
    "    image = tf.image.decode_image(image, channels=1) \n",
    "    image = tf.image.resize(image, img_size)\n",
    "    image = image / 255.0  \n",
    "    image = tf.expand_dims(image, axis=0) \n",
    "\n",
    "    return image"
   ]
  },
  {
   "cell_type": "code",
   "execution_count": 16,
   "id": "c8429f83",
   "metadata": {
    "execution": {
     "iopub.execute_input": "2025-07-24T21:04:27.015150Z",
     "iopub.status.busy": "2025-07-24T21:04:27.014415Z",
     "iopub.status.idle": "2025-07-24T21:04:27.018585Z",
     "shell.execute_reply": "2025-07-24T21:04:27.018002Z"
    },
    "papermill": {
     "duration": 0.011018,
     "end_time": "2025-07-24T21:04:27.020109",
     "exception": false,
     "start_time": "2025-07-24T21:04:27.009091",
     "status": "completed"
    },
    "tags": []
   },
   "outputs": [],
   "source": [
    "def prediction_from_phase(frame):\n",
    "    \n",
    "    path_to_img=plot_from_frame(frame)\n",
    "    \n",
    "    #print((tf.io.read_file(path_to_img)).shape)\n",
    "    \n",
    "    test_image=preprocess_single_image(path_to_img)\n",
    "    \n",
    "    prediction=phase_model.predict(test_image,verbose=0)\n",
    "    \n",
    "    predicted_class=np.argmax(prediction,axis=-1)\n",
    "    \n",
    "    mod_pred=p_labels[predicted_class[0]]\n",
    "    \n",
    "    return mod_pred"
   ]
  },
  {
   "cell_type": "code",
   "execution_count": 17,
   "id": "9c931a10",
   "metadata": {
    "execution": {
     "iopub.execute_input": "2025-07-24T21:04:27.031113Z",
     "iopub.status.busy": "2025-07-24T21:04:27.030429Z",
     "iopub.status.idle": "2025-07-24T21:04:27.034488Z",
     "shell.execute_reply": "2025-07-24T21:04:27.033789Z"
    },
    "papermill": {
     "duration": 0.011177,
     "end_time": "2025-07-24T21:04:27.036063",
     "exception": false,
     "start_time": "2025-07-24T21:04:27.024886",
     "status": "completed"
    },
    "tags": []
   },
   "outputs": [],
   "source": [
    "def hierarchy_prediction(test_frame):\n",
    "    \n",
    "    binary_prediction=prediction_from_binary(test_frame)\n",
    "    \n",
    "    if binary_prediction==0:\n",
    "        final_pred=prediction_from_phase(test_frame)\n",
    "    elif binary_prediction==1:\n",
    "        final_pred=prediction_from_nonphase_model(test_frame)\n",
    "        \n",
    "    return final_pred\n",
    "    "
   ]
  },
  {
   "cell_type": "code",
   "execution_count": 18,
   "id": "1d30de6d",
   "metadata": {
    "execution": {
     "iopub.execute_input": "2025-07-24T21:04:27.046510Z",
     "iopub.status.busy": "2025-07-24T21:04:27.046269Z",
     "iopub.status.idle": "2025-07-24T21:06:32.363637Z",
     "shell.execute_reply": "2025-07-24T21:06:32.362705Z"
    },
    "papermill": {
     "duration": 125.324663,
     "end_time": "2025-07-24T21:06:32.365493",
     "exception": false,
     "start_time": "2025-07-24T21:04:27.040830",
     "status": "completed"
    },
    "scrolled": true,
    "tags": []
   },
   "outputs": [
    {
     "name": "stdout",
     "output_type": "stream",
     "text": [
      "2200\n"
     ]
    },
    {
     "name": "stderr",
     "output_type": "stream",
     "text": [
      "100%|██████████| 2200/2200 [02:05<00:00, 17.56it/s]\n"
     ]
    }
   ],
   "source": [
    "actual_modulations=[]\n",
    "predicted_modulations=[]\n",
    "\n",
    "print(len(test_signals))\n",
    "for i in tqdm(range(0,len(test_signals))):\n",
    "#for i in tqdm(range(5)):\n",
    "    signal=test_signals[i]\n",
    "    actual_mod=test_mod[i]\n",
    "    predicted_mod=hierarchy_prediction(signal)\n",
    "\n",
    "    actual_modulations.append(actual_mod)\n",
    "    predicted_modulations.append(predicted_mod)\n",
    " "
   ]
  },
  {
   "cell_type": "code",
   "execution_count": 19,
   "id": "cba7cc2a",
   "metadata": {
    "execution": {
     "iopub.execute_input": "2025-07-24T21:06:32.443026Z",
     "iopub.status.busy": "2025-07-24T21:06:32.442358Z",
     "iopub.status.idle": "2025-07-24T21:06:32.446344Z",
     "shell.execute_reply": "2025-07-24T21:06:32.445662Z"
    },
    "papermill": {
     "duration": 0.044234,
     "end_time": "2025-07-24T21:06:32.447789",
     "exception": false,
     "start_time": "2025-07-24T21:06:32.403555",
     "status": "completed"
    },
    "tags": []
   },
   "outputs": [],
   "source": [
    "checklist=['BPSK','QPSK','8PSK','PAM4','QAM16','QAM64','GFSK','CPFSK','WBFM','AM-DSB','AM-SSB']"
   ]
  },
  {
   "cell_type": "code",
   "execution_count": 20,
   "id": "afe8f5e2",
   "metadata": {
    "execution": {
     "iopub.execute_input": "2025-07-24T21:06:32.524175Z",
     "iopub.status.busy": "2025-07-24T21:06:32.523849Z",
     "iopub.status.idle": "2025-07-24T21:06:32.529104Z",
     "shell.execute_reply": "2025-07-24T21:06:32.528390Z"
    },
    "papermill": {
     "duration": 0.045195,
     "end_time": "2025-07-24T21:06:32.530572",
     "exception": false,
     "start_time": "2025-07-24T21:06:32.485377",
     "status": "completed"
    },
    "tags": []
   },
   "outputs": [
    {
     "data": {
      "text/plain": [
       "'for i in range(0,40):\\n    print(actual_modulations[i])\\n    print(predicted_modulations[i])\\n    print(\"-\")'"
      ]
     },
     "execution_count": 20,
     "metadata": {},
     "output_type": "execute_result"
    }
   ],
   "source": [
    "\"\"\"for i in range(0,40):\n",
    "    print(actual_modulations[i])\n",
    "    print(predicted_modulations[i])\n",
    "    print(\"-\")\"\"\""
   ]
  },
  {
   "cell_type": "code",
   "execution_count": 21,
   "id": "a0d726fd",
   "metadata": {
    "execution": {
     "iopub.execute_input": "2025-07-24T21:06:32.607345Z",
     "iopub.status.busy": "2025-07-24T21:06:32.606628Z",
     "iopub.status.idle": "2025-07-24T21:06:32.613185Z",
     "shell.execute_reply": "2025-07-24T21:06:32.612309Z"
    },
    "papermill": {
     "duration": 0.046565,
     "end_time": "2025-07-24T21:06:32.614865",
     "exception": false,
     "start_time": "2025-07-24T21:06:32.568300",
     "status": "completed"
    },
    "tags": []
   },
   "outputs": [
    {
     "name": "stdout",
     "output_type": "stream",
     "text": [
      "['BPSK', 'QPSK', '8PSK', 'PAM4', 'QAM16', 'QAM64', 'GFSK', 'CPFSK', 'WBFM', 'AM-DSB', 'AM-SSB']\n",
      "['BPSK', 'QAM64', 'QAM16', 'QPSK', '8PSK', 'CPFSK', 'PAM4', 'GFSK', 'AM-SSB', 'AM-DSB', 'WBFM']\n",
      "2200\n",
      "2200\n"
     ]
    }
   ],
   "source": [
    "y_label_mods=[]\n",
    "\n",
    "for modulation_name in actual_modulations:\n",
    "    if modulation_name not in y_label_mods:\n",
    "        y_label_mods.append(modulation_name)\n",
    "print(y_label_mods)\n",
    "\"\"\n",
    "\n",
    "x_label_mods=[]\n",
    "\n",
    "for signal in predicted_modulations:\n",
    "    if signal not in x_label_mods:\n",
    "        x_label_mods.append(signal)\n",
    "        \n",
    "print(x_label_mods)\n",
    "print(len(actual_modulations))\n",
    "print(len(predicted_modulations))"
   ]
  },
  {
   "cell_type": "code",
   "execution_count": 22,
   "id": "9e81c19d",
   "metadata": {
    "execution": {
     "iopub.execute_input": "2025-07-24T21:06:32.691481Z",
     "iopub.status.busy": "2025-07-24T21:06:32.690808Z",
     "iopub.status.idle": "2025-07-24T21:06:32.694732Z",
     "shell.execute_reply": "2025-07-24T21:06:32.693971Z"
    },
    "papermill": {
     "duration": 0.044068,
     "end_time": "2025-07-24T21:06:32.696331",
     "exception": false,
     "start_time": "2025-07-24T21:06:32.652263",
     "status": "completed"
    },
    "tags": []
   },
   "outputs": [],
   "source": [
    "# def load_data_for_test(data_dict,target_mod,target_snr):\n",
    "#     signals = []\n",
    "#     labels = []\n",
    "    \n",
    "#     # Iterate over the dictionary to filter data with the target SNR\n",
    "#     for (modulation, snr), signal_array in data_dict.items():\n",
    "#         if modulation==target_mod and snr==target_snr:\n",
    "#             for i in range((signal_array.shape)[0]):\n",
    "#                 signal=signal_array[i]\n",
    "#                 signals.append(signal)\n",
    "#                 labels.append(modulation)\n",
    "               \n",
    "#     print('Length of signals:',len(signals))\n",
    "#     signals = np.array(signals)\n",
    "#     print('Length of labels:',len(labels))\n",
    "#     labels=np.array(labels)\n",
    "#     return signals,labels"
   ]
  },
  {
   "cell_type": "code",
   "execution_count": 23,
   "id": "f5f5be6a",
   "metadata": {
    "execution": {
     "iopub.execute_input": "2025-07-24T21:06:32.772510Z",
     "iopub.status.busy": "2025-07-24T21:06:32.772204Z",
     "iopub.status.idle": "2025-07-24T21:06:32.776005Z",
     "shell.execute_reply": "2025-07-24T21:06:32.775167Z"
    },
    "papermill": {
     "duration": 0.04385,
     "end_time": "2025-07-24T21:06:32.777683",
     "exception": false,
     "start_time": "2025-07-24T21:06:32.733833",
     "status": "completed"
    },
    "tags": []
   },
   "outputs": [],
   "source": [
    "# t_test_10,t_label_10=load_data_for_test(data,'BPSK',10)"
   ]
  },
  {
   "cell_type": "code",
   "execution_count": 24,
   "id": "3d950aa2",
   "metadata": {
    "execution": {
     "iopub.execute_input": "2025-07-24T21:06:32.892401Z",
     "iopub.status.busy": "2025-07-24T21:06:32.892064Z",
     "iopub.status.idle": "2025-07-24T21:06:32.896008Z",
     "shell.execute_reply": "2025-07-24T21:06:32.895150Z"
    },
    "papermill": {
     "duration": 0.045084,
     "end_time": "2025-07-24T21:06:32.897538",
     "exception": false,
     "start_time": "2025-07-24T21:06:32.852454",
     "status": "completed"
    },
    "tags": []
   },
   "outputs": [],
   "source": [
    "# def prediction_from_phase2(frame):\n",
    "    \n",
    "#     path_to_img=plot_from_frame(frame)\n",
    "    \n",
    "#     test_image=preprocess_single_image(path_to_img)\n",
    "    \n",
    "#     prediction=phase_model.predict(test_image,verbose=0)\n",
    "    \n",
    "#     predicted_class=np.argmax(prediction,axis=-1)\n",
    "    \n",
    "#     mod_pred=p_labels[predicted_class[0]]\n",
    "    \n",
    "#     return prediction"
   ]
  },
  {
   "cell_type": "code",
   "execution_count": 25,
   "id": "854f39e2",
   "metadata": {
    "execution": {
     "iopub.execute_input": "2025-07-24T21:06:32.974373Z",
     "iopub.status.busy": "2025-07-24T21:06:32.974061Z",
     "iopub.status.idle": "2025-07-24T21:06:32.977962Z",
     "shell.execute_reply": "2025-07-24T21:06:32.977167Z"
    },
    "papermill": {
     "duration": 0.043894,
     "end_time": "2025-07-24T21:06:32.979607",
     "exception": false,
     "start_time": "2025-07-24T21:06:32.935713",
     "status": "completed"
    },
    "tags": []
   },
   "outputs": [],
   "source": [
    "# actual_modulations=[]\n",
    "# predicted_modulations=[]\n",
    "\n",
    "# print(len(t_test_10))\n",
    "# for i in tqdm(range(0,len(t_test_10))):\n",
    "#     signal=t_test_10[i]\n",
    "#     actual_mod=t_label_10[i]\n",
    "#     predicted_mod=prediction_from_phase2(signal)\n",
    "\n",
    "#     actual_modulations.append(actual_mod)\n",
    "#     predicted_modulations.append(predicted_mod)\n",
    " "
   ]
  },
  {
   "cell_type": "code",
   "execution_count": 26,
   "id": "dd682427",
   "metadata": {
    "execution": {
     "iopub.execute_input": "2025-07-24T21:06:33.058521Z",
     "iopub.status.busy": "2025-07-24T21:06:33.057717Z",
     "iopub.status.idle": "2025-07-24T21:06:33.061503Z",
     "shell.execute_reply": "2025-07-24T21:06:33.060758Z"
    },
    "papermill": {
     "duration": 0.044945,
     "end_time": "2025-07-24T21:06:33.063055",
     "exception": false,
     "start_time": "2025-07-24T21:06:33.018110",
     "status": "completed"
    },
    "tags": []
   },
   "outputs": [],
   "source": [
    "# predicted_modulations[4]"
   ]
  },
  {
   "cell_type": "code",
   "execution_count": 27,
   "id": "f5c44976",
   "metadata": {
    "execution": {
     "iopub.execute_input": "2025-07-24T21:06:33.141096Z",
     "iopub.status.busy": "2025-07-24T21:06:33.140748Z",
     "iopub.status.idle": "2025-07-24T21:06:33.144620Z",
     "shell.execute_reply": "2025-07-24T21:06:33.143783Z"
    },
    "papermill": {
     "duration": 0.044986,
     "end_time": "2025-07-24T21:06:33.146451",
     "exception": false,
     "start_time": "2025-07-24T21:06:33.101465",
     "status": "completed"
    },
    "tags": []
   },
   "outputs": [],
   "source": [
    "# QAM=0\n",
    "# PSK=0\n",
    "# for i in range(200):\n",
    "#     if predicted_modulations[i] == 'QAM16':\n",
    "#         QAM+=1\n",
    "#     elif predicted_modulations[i] =='8PSK':\n",
    "#         PSK+=1\n",
    "# print(QAM)\n"
   ]
  },
  {
   "cell_type": "code",
   "execution_count": 28,
   "id": "21888df7",
   "metadata": {
    "execution": {
     "iopub.execute_input": "2025-07-24T21:06:33.225581Z",
     "iopub.status.busy": "2025-07-24T21:06:33.225272Z",
     "iopub.status.idle": "2025-07-24T21:06:34.907431Z",
     "shell.execute_reply": "2025-07-24T21:06:34.906561Z"
    },
    "papermill": {
     "duration": 1.723322,
     "end_time": "2025-07-24T21:06:34.909480",
     "exception": false,
     "start_time": "2025-07-24T21:06:33.186158",
     "status": "completed"
    },
    "tags": []
   },
   "outputs": [
    {
     "data": {
      "image/png": "[encoded data removed]",
      "text/plain": [
       "<Figure size 800x600 with 2 Axes>"
      ]
     },
     "metadata": {},
     "output_type": "display_data"
    }
   ],
   "source": [
    "import seaborn as sns\n",
    "from sklearn.metrics import confusion_matrix\n",
    "\n",
    "# Assuming all_labels_np and pred_labels_np are already defined\n",
    "# Compute the confusion matrix\n",
    "\n",
    "cm = confusion_matrix(actual_modulations, predicted_modulations)\n",
    "# , labels=y_label_mods\n",
    "\n",
    "# Create a heatmap of the confusion matrix\n",
    "plt.figure(figsize=(8, 6))\n",
    "sns.heatmap(cm, annot=True, fmt='d', cmap='Greens')\n",
    "#,xticklabels=actual_modulations,yticklabels=actual_modulations\n",
    "plt.xlabel('Predicted Labels')\n",
    "plt.ylabel('True Labels')\n",
    "plt.title('Hierarchy prediction across all classes(10dB)')\n",
    "plt.show()"
   ]
  },
  {
   "cell_type": "code",
   "execution_count": null,
   "id": "3f4fc76c",
   "metadata": {
    "papermill": {
     "duration": 0.048427,
     "end_time": "2025-07-24T21:06:35.015295",
     "exception": false,
     "start_time": "2025-07-24T21:06:34.966868",
     "status": "completed"
    },
    "tags": []
   },
   "outputs": [],
   "source": []
  }
 ],
 "metadata": {
  "kaggle": {
   "accelerator": "nvidiaTeslaT4",
   "dataSources": [
    {
     "sourceId": 201493151,
     "sourceType": "kernelVersion"
    },
    {
     "modelId": 142285,
     "modelInstanceId": 119034,
     "sourceId": 140534,
     "sourceType": "modelInstanceVersion"
    },
    {
     "isSourceIdPinned": true,
     "modelId": 142285,
     "modelInstanceId": 119034,
     "sourceId": 141076,
     "sourceType": "modelInstanceVersion"
    },
    {
     "isSourceIdPinned": true,
     "modelId": 142285,
     "modelInstanceId": 119034,
     "sourceId": 153397,
     "sourceType": "modelInstanceVersion"
    },
    {
     "isSourceIdPinned": true,
     "modelId": 137653,
     "modelInstanceId": 114387,
     "sourceId": 135365,
     "sourceType": "modelInstanceVersion"
    }
   ],
   "dockerImageVersionId": 30786,
   "isGpuEnabled": true,
   "isInternetEnabled": true,
   "language": "python",
   "sourceType": "notebook"
  },
  "kernelspec": {
   "display_name": "Python 3",
   "language": "python",
   "name": "python3"
  },
  "language_info": {
   "codemirror_mode": {
    "name": "ipython",
    "version": 3
   },
   "file_extension": ".py",
   "mimetype": "text/x-python",
   "name": "python",
   "nbconvert_exporter": "python",
   "pygments_lexer": "ipython3",
   "version": "3.10.14"
  },
  "papermill": {
   "default_parameters": {},
   "duration": 149.423649,
   "end_time": "2025-07-24T21:06:37.973664",
   "environment_variables": {},
   "exception": null,
   "input_path": "__notebook__.ipynb",
   "output_path": "__notebook__.ipynb",
   "parameters": {},
   "start_time": "2025-07-24T21:04:08.550015",
   "version": "2.6.0"
  }
 },
 "nbformat": 4,
 "nbformat_minor": 5
}
